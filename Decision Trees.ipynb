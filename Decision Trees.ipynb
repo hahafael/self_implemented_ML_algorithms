{
 "cells": [
  {
   "cell_type": "markdown",
   "metadata": {},
   "source": [
    "#### Rough Implementation of  ID3 Algoritm "
   ]
  },
  {
   "cell_type": "code",
   "execution_count": 1,
   "metadata": {},
   "outputs": [
    {
     "data": {
      "text/html": [
       "<div>\n",
       "<style scoped>\n",
       "    .dataframe tbody tr th:only-of-type {\n",
       "        vertical-align: middle;\n",
       "    }\n",
       "\n",
       "    .dataframe tbody tr th {\n",
       "        vertical-align: top;\n",
       "    }\n",
       "\n",
       "    .dataframe thead th {\n",
       "        text-align: right;\n",
       "    }\n",
       "</style>\n",
       "<table border=\"1\" class=\"dataframe\">\n",
       "  <thead>\n",
       "    <tr style=\"text-align: right;\">\n",
       "      <th></th>\n",
       "      <th>outlook</th>\n",
       "      <th>temperature</th>\n",
       "      <th>humidity</th>\n",
       "      <th>wind</th>\n",
       "      <th>play tenis</th>\n",
       "    </tr>\n",
       "  </thead>\n",
       "  <tbody>\n",
       "    <tr>\n",
       "      <td>0</td>\n",
       "      <td>sunny</td>\n",
       "      <td>hot</td>\n",
       "      <td>high</td>\n",
       "      <td>weak</td>\n",
       "      <td>no</td>\n",
       "    </tr>\n",
       "    <tr>\n",
       "      <td>1</td>\n",
       "      <td>sunny</td>\n",
       "      <td>hot</td>\n",
       "      <td>high</td>\n",
       "      <td>strong</td>\n",
       "      <td>no</td>\n",
       "    </tr>\n",
       "    <tr>\n",
       "      <td>2</td>\n",
       "      <td>overcast</td>\n",
       "      <td>hot</td>\n",
       "      <td>high</td>\n",
       "      <td>weak</td>\n",
       "      <td>yes</td>\n",
       "    </tr>\n",
       "  </tbody>\n",
       "</table>\n",
       "</div>"
      ],
      "text/plain": [
       "    outlook temperature humidity    wind play tenis\n",
       "0     sunny         hot     high    weak         no\n",
       "1     sunny         hot     high  strong         no\n",
       "2  overcast         hot     high    weak        yes"
      ]
     },
     "execution_count": 1,
     "metadata": {},
     "output_type": "execute_result"
    }
   ],
   "source": [
    "import pandas as pd\n",
    "import numpy as np\n",
    "\n",
    "#create data for testing out the code\n",
    "\n",
    "data = [('sunny',    'hot',  'high',   'weak',   'no'),\n",
    "        ('sunny',    'hot',  'high',   'strong', 'no'),\n",
    "        ('overcast', 'hot',  'high',   'weak',   'yes'),\n",
    "        ('rain',     'mild', 'high',   'weak',   'yes'),\n",
    "        ('rain',     'cool', 'normal', 'weak',   'yes'),\n",
    "        ('rain',     'cool', 'normal', 'strong', 'no'),\n",
    "        ('overcast', 'cool', 'normal', 'strong', 'yes'),\n",
    "        ('sunny',    'mild', 'high',   'weak',   'no'),\n",
    "        ('sunny',    'cool', 'normal', 'weak',   'yes'),\n",
    "        ('rain',     'mild', 'normal', 'weak',   'yes'),\n",
    "        ('sunny',    'mild', 'normal', 'strong', 'yes'),\n",
    "        ('overcast', 'mild', 'high',   'strong', 'yes'),\n",
    "        ('overcast', 'hot',  'normal', 'weak',   'yes'),\n",
    "        ('rain',     'mild', 'high',   'strong', 'no')\n",
    "       ]\n",
    "\n",
    "test_df = pd.DataFrame(data, columns = ['outlook', 'temperature', 'humidity', 'wind', 'play tenis'])\n",
    "test_df.head(3)"
   ]
  },
  {
   "cell_type": "code",
   "execution_count": 2,
   "metadata": {},
   "outputs": [],
   "source": [
    "#Get the features and distinguish them examples values to count the classes' targets\n",
    "\n",
    "feature = test_df.iloc[:,0]\n",
    "target = test_df.iloc[:,len(test_df.columns)-1]"
   ]
  },
  {
   "cell_type": "code",
   "execution_count": 3,
   "metadata": {},
   "outputs": [],
   "source": [
    "def find_branches(node):  #return the features /// np.unique would do the trick\n",
    "    branches = list()\n",
    "    for i in node:\n",
    "        if i  not in  branches:\n",
    "            branches.append(i)\n",
    "    return branches\n",
    "\n"
   ]
  },
  {
   "cell_type": "code",
   "execution_count": 4,
   "metadata": {},
   "outputs": [],
   "source": [
    "def find_root(potential_root,leaves): #finds the root of the tree\n",
    "    \n",
    "    f_i = find_branches(potential_root)\n",
    "    t_i = find_branches(leaves)\n",
    "    counts = list()\n",
    "    aux = 0\n",
    "    \n",
    "    for i in f_i:\n",
    "        for j in t_i:\n",
    "            for k in range(len(potential_root)):\n",
    "                if(potential_root[k]== i  and leaves[k]== j):\n",
    "                    aux = aux + 1\n",
    "            \n",
    "            counts.append(aux)\n",
    "            aux = 0  \n",
    "                \n",
    "    return counts\n",
    "\n",
    "\n"
   ]
  },
  {
   "cell_type": "code",
   "execution_count": null,
   "metadata": {
    "scrolled": true
   },
   "outputs": [],
   "source": []
  },
  {
   "cell_type": "markdown",
   "metadata": {},
   "source": [
    "### Entropy \n",
    "\n",
    "The entropy of a random variable **V** with n values ${v_i}$  , which one with a probality **P($v_i$)** is given by:\n",
    "\n",
    "$$ H(V) = - \\sum_{i = 1}^{n}p(v_i)log_2p(v_i)$$\n",
    "\n",
    "For a boolean variable, which assumes 2 values, true with probality **q**:\n",
    "\n",
    "$$B(q) = -(qlog_2q + (1-q)log_2(1-q))$$\n",
    "\n",
    "After some definitions and manipulations, the information Gain of a goal-atrribute can be defined as:\n",
    "\n",
    "$$InfoGain(A) = B(\\frac{p}{p+n}) - \\sum_{i = 1}^{d}\\frac{p_i+n_i}{p+n}B(\\frac{p_i}{p_i+n_i})$$\n",
    "\n"
   ]
  },
  {
   "cell_type": "code",
   "execution_count": 5,
   "metadata": {},
   "outputs": [],
   "source": [
    "def booleantropy(prob):\n",
    "    \n",
    "    if(prob == 0 or prob ==1):\n",
    "        \n",
    "        return 0 \n",
    "    else:\n",
    "        \n",
    "        return -(((prob*np.log(prob) + (1-prob)*np.log(1-prob))/np.log(2))) \n",
    "\n",
    "\n"
   ]
  },
  {
   "cell_type": "code",
   "execution_count": 25,
   "metadata": {},
   "outputs": [],
   "source": [
    "def infoGain(counts): #sun = 0.970\n",
    "    pi = []\n",
    "    ni = []\n",
    "    aux = 0\n",
    "\n",
    "    for i in range(len(counts)):\n",
    "        if(i % 2 == 0 ):\n",
    "            ni.append(counts[i])\n",
    "        else:\n",
    "            pi.append(counts[i])\n",
    "\n",
    "    n = sum(ni)\n",
    "    p = sum(pi)\n",
    "\n",
    "    \n",
    "    for t in zip(ni,pi):\n",
    "\n",
    "        aux = aux +  ((t[1] + t[0])/(p+n))*booleantropy(t[1]/(t[1]+t[0])) \n",
    "            \n",
    "    \n",
    "    return (booleantropy(p/(p+n)) - aux) "
   ]
  },
  {
   "cell_type": "code",
   "execution_count": null,
   "metadata": {
    "scrolled": true
   },
   "outputs": [],
   "source": []
  },
  {
   "cell_type": "code",
   "execution_count": 26,
   "metadata": {},
   "outputs": [],
   "source": [
    "def find_next_node(currently_node,potential_node = False ,leaves = False):\n",
    "    branches = find_branches(currently_node)\n",
    "    \n",
    "    aux_0 = []\n",
    "    aux_1 = []\n",
    "    \n",
    "    for branch in branches:  #get the indexes (sunny, rain and forecast)\n",
    "        aux_0 = [i for i in range(len(currently_node)) if currently_node[i] == branch] #elegant as fuck dude\n",
    "        aux_1.append(aux_0)\n",
    "        aux_0 = [] \n",
    "\n",
    "    for element in aux_1:                               # counts the score for each different attibute\n",
    "        sub_feature = [potential_node[i] for i in element]\n",
    "        sub_leaves = [leaves[i] for i in element]\n",
    "        sub_counts  = find_root(sub_feature,sub_leaves)  \n",
    "        sub_gain = infoGain(sub_counts)\n",
    "     \n",
    "    \n",
    "    "
   ]
  },
  {
   "cell_type": "code",
   "execution_count": null,
   "metadata": {},
   "outputs": [],
   "source": []
  },
  {
   "cell_type": "code",
   "execution_count": 8,
   "metadata": {
    "scrolled": true
   },
   "outputs": [
    {
     "name": "stdout",
     "output_type": "stream",
     "text": [
      "[3, 2, 0, 4, 2, 3]\n"
     ]
    },
    {
     "data": {
      "text/plain": [
       "0.2467498197744391"
      ]
     },
     "execution_count": 8,
     "metadata": {},
     "output_type": "execute_result"
    }
   ],
   "source": [
    "feature = test_df.iloc[:,0]\n",
    "\n",
    "examples = find_branches(feature)\n",
    "\n",
    "counts = find_root(feature,target)\n",
    "\n",
    "print(counts)\n",
    "\n",
    "infoGain(counts)\n"
   ]
  },
  {
   "cell_type": "code",
   "execution_count": 29,
   "metadata": {},
   "outputs": [],
   "source": [
    "def tree_building(dataset): # dataset -> pandas dataframe. \n",
    "    tree = []\n",
    "    features_idx = list(dataset.columns[0:len(dataset.columns)-1]) # get only the feature labels.\n",
    "    leaves = dataset.iloc[:,len(test_df.columns)-1]\n",
    "    \n",
    "    counts = [find_root(dataset[i],leaves) for i in features_idx]\n",
    "    gains  = [infoGain(i) for i in counts]    \n",
    "    tree.append(features_idx[np.argmax(gains)])\n",
    "    features_idx.remove(tree[0]) #remove the root from the features to be chosen as nodes \n",
    "  \n",
    "\n",
    "    next_el = [find_next_node(dataset[tree[0]], dataset[i], leaves) for i in features_idx]\n",
    "\n",
    "    \n",
    "    "
   ]
  },
  {
   "cell_type": "code",
   "execution_count": 30,
   "metadata": {
    "scrolled": true
   },
   "outputs": [
    {
     "name": "stdout",
     "output_type": "stream",
     "text": [
      "['temperature', 'humidity', 'wind']\n"
     ]
    }
   ],
   "source": [
    "tree_building(test_df)\n"
   ]
  },
  {
   "cell_type": "code",
   "execution_count": null,
   "metadata": {},
   "outputs": [],
   "source": []
  }
 ],
 "metadata": {
  "kernelspec": {
   "display_name": "Python 3",
   "language": "python",
   "name": "python3"
  },
  "language_info": {
   "codemirror_mode": {
    "name": "ipython",
    "version": 3
   },
   "file_extension": ".py",
   "mimetype": "text/x-python",
   "name": "python",
   "nbconvert_exporter": "python",
   "pygments_lexer": "ipython3",
   "version": "3.6.9"
  }
 },
 "nbformat": 4,
 "nbformat_minor": 2
}

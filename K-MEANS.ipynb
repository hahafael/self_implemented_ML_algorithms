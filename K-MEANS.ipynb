{
 "cells": [
  {
   "cell_type": "markdown",
   "metadata": {},
   "source": [
    "# K - MEANS \n",
    "\n",
    "### Aplicação do algoritmo de clusterização K-Means no dataset Iris do sklearn."
   ]
  },
  {
   "cell_type": "code",
   "execution_count": 1,
   "metadata": {},
   "outputs": [],
   "source": [
    "from sklearn import datasets\n",
    "from sklearn.metrics.pairwise import euclidean_distances\n",
    "from sklearn.model_selection import train_test_split\n",
    "from sklearn.datasets import load_iris\n",
    "from statistics import mean\n",
    "import numpy as np\n",
    "import random"
   ]
  },
  {
   "cell_type": "code",
   "execution_count": 2,
   "metadata": {},
   "outputs": [
    {
     "data": {
      "text/plain": [
       "'Descrição: K-Means\\n\\nrandomly chose k examples as initial centroids\\nwhile true:\\n    create k clusters by assign each example to closest centroid\\n    compute k centroids by averaging examples in each cluster \\n    if centroids dont change:\\n        break\\n\\n'"
      ]
     },
     "execution_count": 2,
     "metadata": {},
     "output_type": "execute_result"
    }
   ],
   "source": [
    "X= datasets.load_iris()\n",
    "data = X.data\n",
    "target = X.target\n",
    "\n",
    "'''Descrição: K-Means\n",
    "\n",
    "randomly chose k examples as initial centroids\n",
    "while true:\n",
    "    create k clusters by assign each example to closest centroid\n",
    "    compute k centroids by averaging examples in each cluster \n",
    "    if centroids dont change:\n",
    "        break\n",
    "\n",
    "'''"
   ]
  },
  {
   "cell_type": "code",
   "execution_count": null,
   "metadata": {},
   "outputs": [],
   "source": []
  },
  {
   "cell_type": "code",
   "execution_count": 3,
   "metadata": {},
   "outputs": [],
   "source": [
    "def gen_kcentroids(data,k): # retorna uma lista com os k centroides iniciais\n",
    "    centroids_idx = []\n",
    "    centroids = []\n",
    "    centroids_idx = random.sample(range(0,len(data)),k) #gera uma lista com k  indices variando de 0 ao tamanho-1. \n",
    "    \n",
    "    for i in centroids_idx:\n",
    "        centroids.append(data[i])\n",
    "                             \n",
    "    return centroids\n",
    "        "
   ]
  },
  {
   "cell_type": "code",
   "execution_count": 4,
   "metadata": {},
   "outputs": [],
   "source": [
    "def cluster_assign(data,centroids): #Calcula as distâncias entre os centroides e os exemplos para relacionar cada um com determi\n",
    "#nado centroide. Retorna cada centroide no qual cada exemplo é relacionado. \n",
    "    \n",
    "    assign = ([])\n",
    "    dist = np.array([])\n",
    "    dist = euclidean_distances(data,centroids)\n",
    "    \n",
    "    for example in dist:\n",
    "        assign.append(np.argmin(example))\n",
    "        \n",
    "\n",
    "    return dist,assign"
   ]
  },
  {
   "cell_type": "code",
   "execution_count": 5,
   "metadata": {},
   "outputs": [],
   "source": [
    "def new_centroids(data,assign):#calcula as novas posicoes dos centroides fazendo a media entre os elementos de cada cluster.\n",
    "#Deve retornay um array do tipo [[1,2,3,4],[1,2,3,4]...[k centroids]]\n",
    "\n",
    "    aux0 =([])\n",
    "    aux1 =([])\n",
    "    aux2 =([])\n",
    "#agrupa todos os dados do mesmo cluster\n",
    "    \n",
    "    for i in range(len(data)):\n",
    "        if assign[i] == 0:\n",
    "            aux0.append(data[i])\n",
    "        elif assign[i] == 1:\n",
    "            aux1.append(data[i])\n",
    "        elif assign[i] ==2:\n",
    "            aux2.append(data[i])\n",
    "            \n",
    "            #exemplo de entendimento p/ função zip + list comprehensions\n",
    "            '''a = [[1,2,3],[4,5,6],[7,8,9]]\n",
    "\n",
    "            b = zip(*a)\n",
    "\n",
    "            for i in b:\n",
    "                print(i)\n",
    "                print(mean(i))\n",
    "                \n",
    "                out:\n",
    "                \n",
    "                (1, 4, 7)\n",
    "                4\n",
    "                (2, 5, 8)\n",
    "                5\n",
    "                (3, 6, 9)\n",
    "                6\n",
    "                '''    \n",
    "    \n",
    "    c0 = [mean(values) for values in zip(*aux0)];\n",
    "    c1 = [mean(values) for values in zip(*aux1)];\n",
    "    c2 = [mean(values) for values in zip(*aux2)];\n",
    "    \n",
    "   \n",
    "    \n",
    "    return c0,c1,c2              \n",
    "\n"
   ]
  },
  {
   "cell_type": "code",
   "execution_count": 6,
   "metadata": {},
   "outputs": [],
   "source": [
    "def k_means(data,k,iterac): #retorna os rotulos de cada exemplo no conjunto de dados.\n",
    "    \n",
    "    initial_centroids = gen_kcentroids(data,k)\n",
    "    dist,assign = cluster_assign(data,initial_centroids)\n",
    "    \n",
    "    while(iterac >0):\n",
    "        new_c = new_centroids(data,assign)\n",
    "        dist,assign = cluster_assign(data,new_c)\n",
    "        iterac = iterac -1\n",
    "            \n",
    "    return new_c,assign"
   ]
  },
  {
   "cell_type": "code",
   "execution_count": 7,
   "metadata": {},
   "outputs": [
    {
     "data": {
      "text/plain": [
       "(([5.901612903225806,\n",
       "   2.7483870967741937,\n",
       "   4.393548387096774,\n",
       "   1.4338709677419355],\n",
       "  [5.006, 3.428, 1.462, 0.246],\n",
       "  [6.8500000000000005,\n",
       "   3.0736842105263156,\n",
       "   5.742105263157895,\n",
       "   2.0710526315789473]),\n",
       " [1,\n",
       "  1,\n",
       "  1,\n",
       "  1,\n",
       "  1,\n",
       "  1,\n",
       "  1,\n",
       "  1,\n",
       "  1,\n",
       "  1,\n",
       "  1,\n",
       "  1,\n",
       "  1,\n",
       "  1,\n",
       "  1,\n",
       "  1,\n",
       "  1,\n",
       "  1,\n",
       "  1,\n",
       "  1,\n",
       "  1,\n",
       "  1,\n",
       "  1,\n",
       "  1,\n",
       "  1,\n",
       "  1,\n",
       "  1,\n",
       "  1,\n",
       "  1,\n",
       "  1,\n",
       "  1,\n",
       "  1,\n",
       "  1,\n",
       "  1,\n",
       "  1,\n",
       "  1,\n",
       "  1,\n",
       "  1,\n",
       "  1,\n",
       "  1,\n",
       "  1,\n",
       "  1,\n",
       "  1,\n",
       "  1,\n",
       "  1,\n",
       "  1,\n",
       "  1,\n",
       "  1,\n",
       "  1,\n",
       "  1,\n",
       "  0,\n",
       "  0,\n",
       "  2,\n",
       "  0,\n",
       "  0,\n",
       "  0,\n",
       "  0,\n",
       "  0,\n",
       "  0,\n",
       "  0,\n",
       "  0,\n",
       "  0,\n",
       "  0,\n",
       "  0,\n",
       "  0,\n",
       "  0,\n",
       "  0,\n",
       "  0,\n",
       "  0,\n",
       "  0,\n",
       "  0,\n",
       "  0,\n",
       "  0,\n",
       "  0,\n",
       "  0,\n",
       "  0,\n",
       "  0,\n",
       "  2,\n",
       "  0,\n",
       "  0,\n",
       "  0,\n",
       "  0,\n",
       "  0,\n",
       "  0,\n",
       "  0,\n",
       "  0,\n",
       "  0,\n",
       "  0,\n",
       "  0,\n",
       "  0,\n",
       "  0,\n",
       "  0,\n",
       "  0,\n",
       "  0,\n",
       "  0,\n",
       "  0,\n",
       "  0,\n",
       "  0,\n",
       "  0,\n",
       "  0,\n",
       "  2,\n",
       "  0,\n",
       "  2,\n",
       "  2,\n",
       "  2,\n",
       "  2,\n",
       "  0,\n",
       "  2,\n",
       "  2,\n",
       "  2,\n",
       "  2,\n",
       "  2,\n",
       "  2,\n",
       "  0,\n",
       "  0,\n",
       "  2,\n",
       "  2,\n",
       "  2,\n",
       "  2,\n",
       "  0,\n",
       "  2,\n",
       "  0,\n",
       "  2,\n",
       "  0,\n",
       "  2,\n",
       "  2,\n",
       "  0,\n",
       "  0,\n",
       "  2,\n",
       "  2,\n",
       "  2,\n",
       "  2,\n",
       "  2,\n",
       "  0,\n",
       "  2,\n",
       "  2,\n",
       "  2,\n",
       "  2,\n",
       "  0,\n",
       "  2,\n",
       "  2,\n",
       "  2,\n",
       "  0,\n",
       "  2,\n",
       "  2,\n",
       "  2,\n",
       "  0,\n",
       "  2,\n",
       "  2,\n",
       "  0])"
      ]
     },
     "execution_count": 7,
     "metadata": {},
     "output_type": "execute_result"
    }
   ],
   "source": [
    "k_means(data,3,100)"
   ]
  },
  {
   "cell_type": "code",
   "execution_count": 8,
   "metadata": {
    "scrolled": true
   },
   "outputs": [
    {
     "data": {
      "text/plain": [
       "array([0, 0, 0, 0, 0, 0, 0, 0, 0, 0, 0, 0, 0, 0, 0, 0, 0, 0, 0, 0, 0, 0,\n",
       "       0, 0, 0, 0, 0, 0, 0, 0, 0, 0, 0, 0, 0, 0, 0, 0, 0, 0, 0, 0, 0, 0,\n",
       "       0, 0, 0, 0, 0, 0, 1, 1, 1, 1, 1, 1, 1, 1, 1, 1, 1, 1, 1, 1, 1, 1,\n",
       "       1, 1, 1, 1, 1, 1, 1, 1, 1, 1, 1, 1, 1, 1, 1, 1, 1, 1, 1, 1, 1, 1,\n",
       "       1, 1, 1, 1, 1, 1, 1, 1, 1, 1, 1, 1, 2, 2, 2, 2, 2, 2, 2, 2, 2, 2,\n",
       "       2, 2, 2, 2, 2, 2, 2, 2, 2, 2, 2, 2, 2, 2, 2, 2, 2, 2, 2, 2, 2, 2,\n",
       "       2, 2, 2, 2, 2, 2, 2, 2, 2, 2, 2, 2, 2, 2, 2, 2, 2, 2])"
      ]
     },
     "execution_count": 8,
     "metadata": {},
     "output_type": "execute_result"
    }
   ],
   "source": [
    "target"
   ]
  },
  {
   "cell_type": "code",
   "execution_count": null,
   "metadata": {},
   "outputs": [],
   "source": []
  },
  {
   "cell_type": "code",
   "execution_count": null,
   "metadata": {},
   "outputs": [],
   "source": []
  },
  {
   "cell_type": "code",
   "execution_count": null,
   "metadata": {},
   "outputs": [],
   "source": []
  },
  {
   "cell_type": "code",
   "execution_count": null,
   "metadata": {},
   "outputs": [],
   "source": []
  },
  {
   "cell_type": "code",
   "execution_count": null,
   "metadata": {},
   "outputs": [],
   "source": []
  },
  {
   "cell_type": "code",
   "execution_count": null,
   "metadata": {},
   "outputs": [],
   "source": []
  }
 ],
 "metadata": {
  "kernelspec": {
   "display_name": "Python 3",
   "language": "python",
   "name": "python3"
  },
  "language_info": {
   "codemirror_mode": {
    "name": "ipython",
    "version": 3
   },
   "file_extension": ".py",
   "mimetype": "text/x-python",
   "name": "python",
   "nbconvert_exporter": "python",
   "pygments_lexer": "ipython3",
   "version": "3.6.9"
  }
 },
 "nbformat": 4,
 "nbformat_minor": 2
}
